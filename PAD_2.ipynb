{
  "nbformat": 4,
  "nbformat_minor": 0,
  "metadata": {
    "colab": {
      "provenance": [],
      "authorship_tag": "ABX9TyO+b/ZyjFVkovQPBprq9kMx",
      "include_colab_link": true
    },
    "kernelspec": {
      "name": "python3",
      "display_name": "Python 3"
    },
    "language_info": {
      "name": "python"
    }
  },
  "cells": [
    {
      "cell_type": "markdown",
      "metadata": {
        "id": "view-in-github",
        "colab_type": "text"
      },
      "source": [
        "<a href=\"https://colab.research.google.com/github/s29548/PAD/blob/main/PAD_2.ipynb\" target=\"_parent\"><img src=\"https://colab.research.google.com/assets/colab-badge.svg\" alt=\"Open In Colab\"/></a>"
      ]
    },
    {
      "cell_type": "code",
      "execution_count": 3,
      "metadata": {
        "id": "R2hCKHw4JD7y"
      },
      "outputs": [],
      "source": [
        "import numpy as np\n",
        "import pandas as pd"
      ]
    },
    {
      "cell_type": "code",
      "source": [
        "data = pd.read_csv(\"pad2_data/president_heights.csv\")\n",
        "heights = np.array(data['height(cm)'])"
      ],
      "metadata": {
        "id": "n_OUHdZ3Oap7"
      },
      "execution_count": 44,
      "outputs": []
    },
    {
      "cell_type": "markdown",
      "source": [
        "Zadanie 1"
      ],
      "metadata": {
        "id": "Wuy3wl_OR2o9"
      }
    },
    {
      "cell_type": "code",
      "source": [
        "# average height\n",
        "avg_height = np.average(heights)\n",
        "print(\"average height: \", avg_height)\n",
        "# standard deviation \n",
        "std_height = np.std(heights) \n",
        "print(\"standard deviation: \", std_height)\n",
        "# maximum height\n",
        "max_height = np.max(heights)\n",
        "print(\"maximum height: \", max_height)\n",
        "# minimum height\n",
        "min_height = np.min(heights)\n",
        "print(\"minimum height: \", min_height)\n",
        "# 25th percentile\n",
        "quantile_25 = np.quantile(heights, 0.25)\n",
        "print(\"25th percentile: \", quantile_25)\n",
        "# 75th percentile\n",
        "quantile_75 = np.quantile(heights, 0.75)\n",
        "print(\"75th percentile: \", quantile_75)\n",
        "# median\n",
        "median = np.median(heights)\n",
        "print(\"median: \", median)"
      ],
      "metadata": {
        "colab": {
          "base_uri": "https://localhost:8080/"
        },
        "id": "ulsnzIt_QLhU",
        "outputId": "db349a7f-501c-4966-d9b8-502e2363d6c9"
      },
      "execution_count": 45,
      "outputs": [
        {
          "output_type": "stream",
          "name": "stdout",
          "text": [
            "average height:  179.73809523809524\n",
            "standard deviation:  6.931843442745892\n",
            "maximum height:  193\n",
            "minimum height:  163\n",
            "25th percentile:  174.25\n",
            "75th percentile:  183.0\n",
            "median:  182.0\n"
          ]
        }
      ]
    },
    {
      "cell_type": "markdown",
      "source": [
        "Zadanie 2"
      ],
      "metadata": {
        "id": "l1r3tekGSCQM"
      }
    },
    {
      "cell_type": "code",
      "source": [
        "zadanie_2 = pd.read_csv(\"pad2_data/Zadanie_2.csv\", sep=';', header=None)\n",
        "matrix = zadanie_2.to_numpy()\n",
        "print(matrix)"
      ],
      "metadata": {
        "colab": {
          "base_uri": "https://localhost:8080/"
        },
        "id": "WpWhd2aLSCFV",
        "outputId": "f764f1b1-8966-4cbd-e8c2-3ad8007d9b6f"
      },
      "execution_count": 46,
      "outputs": [
        {
          "output_type": "stream",
          "name": "stdout",
          "text": [
            "[[  1   2  15 -59   9   3  75   6   7   1]\n",
            " [  0   5   0   4   6  16  44   7   1   1]\n",
            " [  7  14   3 -10   9  15  73   8   2   9]\n",
            " [  1   5  15 -54   5  15  35   8   6   4]\n",
            " [  0   8   5 -18   7  16  91   6   7   9]\n",
            " [  7  18  23 -90   4   8  31   0   1   7]\n",
            " [  2   8  20 -72   4   1  91   9   4   4]\n",
            " [  4  12  18 -65   6   9  76   4   9   9]\n",
            " [  7  15  13 -52   5   7  54   2   7   0]\n",
            " [  2   9  15 -56   6   1  98   4   8   4]]\n"
          ]
        }
      ]
    },
    {
      "cell_type": "code",
      "source": [
        "# a) wartosc wlasna i wektory wlasne\n",
        "evalues, evectors = np.linalg.eig(matrix)\n",
        "print(\"wartosc wlasna: \", evalues)\n",
        "print(\"wektor wlasny: \" , evectors)"
      ],
      "metadata": {
        "id": "JTBAlv9IV5ln",
        "colab": {
          "base_uri": "https://localhost:8080/"
        },
        "outputId": "354a2055-a65d-453d-8f3f-f4f67c558ed8"
      },
      "execution_count": 47,
      "outputs": [
        {
          "output_type": "stream",
          "name": "stdout",
          "text": [
            "wartosc wlasna:  [104.34960192 +0.j         -23.35660516+18.84992811j\n",
            " -23.35660516-18.84992811j  15.92989017 +0.j\n",
            "  -4.99456452 +0.j           0.35205717 +5.80125175j\n",
            "   0.35205717 -5.80125175j  -1.03383491 +0.j\n",
            "   3.87900166 +1.42651533j   3.87900166 -1.42651533j]\n",
            "wektor wlasny:  [[-0.29000475+0.j         -0.07545445+0.07743149j -0.07545445-0.07743149j\n",
            "  -0.03544485+0.j          0.42681634+0.j         -0.22172831-0.29869259j\n",
            "  -0.22172831+0.29869259j  0.41343726+0.j         -0.28670255+0.21891569j\n",
            "  -0.28670255-0.21891569j]\n",
            " [-0.24163153+0.j          0.41229621+0.09197324j  0.41229621-0.09197324j\n",
            "   0.45873475+0.j         -0.27056206+0.j         -0.01331344+0.1422557j\n",
            "  -0.01331344-0.1422557j  -0.31591047+0.j          0.41954481-0.10561864j\n",
            "   0.41954481+0.10561864j]\n",
            " [-0.41060573+0.j          0.37509638-0.00960818j  0.37509638+0.00960818j\n",
            "   0.64067986+0.j         -0.37967609+0.j         -0.60525232+0.j\n",
            "  -0.60525232-0.j          0.6457768 +0.j          0.63631555+0.j\n",
            "   0.63631555-0.j        ]\n",
            " [-0.18899971+0.j         -0.05624951+0.174848j   -0.05624951-0.174848j\n",
            "   0.25174536+0.j         -0.07625465+0.j         -0.14870016-0.00795735j\n",
            "  -0.14870016+0.00795735j  0.15206852+0.j          0.21373907+0.00228636j\n",
            "   0.21373907-0.00228636j]\n",
            " [-0.42862199+0.j          0.47707538+0.14580554j  0.47707538-0.14580554j\n",
            "   0.39445834+0.j         -0.69542141+0.j          0.07336021-0.43070469j\n",
            "   0.07336021+0.43070469j -0.25948775+0.j          0.20250102-0.00411374j\n",
            "   0.20250102+0.00411374j]\n",
            " [-0.14730562+0.j         -0.57352911+0.j         -0.57352911-0.j\n",
            "   0.10071325+0.j          0.30158403+0.j         -0.04758838+0.12911829j\n",
            "  -0.04758838-0.12911829j  0.21274791+0.j         -0.1503483 +0.03452906j\n",
            "  -0.1503483 -0.03452906j]\n",
            " [-0.34660607+0.j         -0.13987374+0.06837303j -0.13987374-0.06837303j\n",
            "  -0.04800705+0.j          0.06798106+0.j          0.00512204+0.04215641j\n",
            "   0.00512204-0.04215641j  0.05365357+0.j         -0.0534517 +0.00550802j\n",
            "  -0.0534517 -0.00550802j]\n",
            " [-0.34919853+0.j         -0.08414467+0.07749664j -0.08414467-0.07749664j\n",
            "   0.25925893+0.j         -0.10039982+0.j         -0.06761437-0.25584347j\n",
            "  -0.06761437+0.25584347j -0.38214447+0.j          0.29485109-0.01300678j\n",
            "   0.29485109+0.01300678j]\n",
            " [-0.2440048 +0.j         -0.13777908+0.00402196j -0.13777908-0.00402196j\n",
            "   0.27709282+0.j         -0.00524365+0.j          0.21866893+0.04463336j\n",
            "   0.21866893-0.04463336j -0.12045798+0.j          0.27558332+0.02285482j\n",
            "   0.27558332-0.02285482j]\n",
            " [-0.38231403+0.j         -0.00476199+0.03456836j -0.00476199-0.03456836j\n",
            "   0.04918165+0.j          0.07322815+0.j          0.1819345 -0.29687727j\n",
            "   0.1819345 +0.29687727j -0.11445044+0.j          0.02830199+0.00579727j\n",
            "   0.02830199-0.00579727j]]\n"
          ]
        }
      ]
    },
    {
      "cell_type": "code",
      "source": [
        "# b) macierz odwrotna\n",
        "inverse_matrix = np.linalg.inv(matrix)\n",
        "print(\"macierz odwrotna: \", inverse_matrix)"
      ],
      "metadata": {
        "id": "V3YHhscrWakw",
        "colab": {
          "base_uri": "https://localhost:8080/"
        },
        "outputId": "49a80d5c-00b4-45f3-dc27-043bc7821410"
      },
      "execution_count": 48,
      "outputs": [
        {
          "output_type": "stream",
          "name": "stdout",
          "text": [
            "macierz odwrotna:  [[ 0.47461371  0.13269253 -0.24726695 -0.82965177  0.28250384 -0.17012825\n",
            "   0.58274426  0.83686705  0.4146721  -1.56942847]\n",
            " [-0.38032531 -0.11226789  0.23216372  0.58853747 -0.2508954   0.10174485\n",
            "  -0.40729564 -0.58325689 -0.2335154   1.11832726]\n",
            " [ 0.13559662  0.58950334 -0.24709855 -0.58789838 -0.30170699 -0.12721938\n",
            "   0.23740295  1.01003036 -0.02151387 -0.64590149]\n",
            " [ 0.01425207  0.14570726 -0.04557569 -0.12721972 -0.08945184 -0.03756624\n",
            "   0.03910376  0.23606066 -0.01436771 -0.11345749]\n",
            " [-0.09473246  0.01725249  0.19145597  0.32960274 -0.28626296  0.08348529\n",
            "  -0.37577603 -0.27295934 -0.25855803  0.74691827]\n",
            " [ 0.16387032  0.10075684 -0.15404907 -0.29794662  0.16916877 -0.02827782\n",
            "   0.20469921  0.28036265  0.15086178 -0.5882585 ]\n",
            " [ 0.04288003  0.02246462 -0.0366803  -0.09024915  0.04322146 -0.01047861\n",
            "   0.06167348  0.07009721  0.0367806  -0.14185925]\n",
            " [-0.26858433 -0.21167346  0.25168367  0.55607234 -0.16804333  0.01066975\n",
            "  -0.22435849 -0.52957038 -0.15757224  0.77302113]\n",
            " [-0.15583541 -0.13041404  0.0984558   0.3150966  -0.09916278 -0.04426337\n",
            "  -0.20832614 -0.18404388 -0.04309498  0.45794224]\n",
            " [-0.05970783 -0.11342903  0.09122544  0.11908074 -0.00311646  0.02370807\n",
            "  -0.07526552 -0.06924544 -0.10963836  0.16553689]]\n"
          ]
        }
      ]
    },
    {
      "cell_type": "markdown",
      "source": [
        "Zadanie 3"
      ],
      "metadata": {
        "id": "JHGrMuFWXATi"
      }
    },
    {
      "cell_type": "code",
      "source": [
        "seattle2014 = pd.read_csv('pad2_data/Seattle2014.csv')\n",
        "rainfall = pd.read_csv('pad2_data/Seattle2014.csv')['PRCP'].values\n",
        "inches = rainfall / 254.0  # 1/10mm -> inches\n",
        "%matplotlib inline\n",
        "import matplotlib.pyplot as plt\n",
        "import seaborn; seaborn.set()  # set plot styles\n",
        "plt.hist(inches, 40);"
      ],
      "metadata": {
        "colab": {
          "base_uri": "https://localhost:8080/",
          "height": 268
        },
        "id": "BBybPur4XBsS",
        "outputId": "9380b0cb-8482-4e52-826b-ce81d3429680"
      },
      "execution_count": 4,
      "outputs": [
        {
          "output_type": "display_data",
          "data": {
            "text/plain": [
              "<Figure size 432x288 with 1 Axes>"
            ],
            "image/png": "[encoded data removed]"
          },
          "metadata": {}
        }
      ]
    },
    {
      "cell_type": "code",
      "source": [
        "print(\"Number days without rain:      \", np.sum(inches==0))\n",
        "print(\"Number days with rain:         \", np.sum(inches!=0))\n",
        "print(\"Days with more than 0.5 inches:\", np.sum(inches>0.5))\n",
        "print(\"Rainy days with < 0.2 inches  :\", np.sum(inches<0.2 ) - np.sum(inches==0))"
      ],
      "metadata": {
        "colab": {
          "base_uri": "https://localhost:8080/"
        },
        "id": "zQYRl9DeXQaq",
        "outputId": "11c03374-6515-4cdd-ebb1-0e71415740c7"
      },
      "execution_count": 18,
      "outputs": [
        {
          "output_type": "stream",
          "name": "stdout",
          "text": [
            "Number days without rain:       215\n",
            "Number days with rain:          150\n",
            "Days with more than 0.5 inches: 37\n",
            "Rainy days with < 0.2 inches  : 75\n"
          ]
        }
      ]
    },
    {
      "cell_type": "code",
      "source": [
        "median_rainy_days = np.ma.median(np.ma.masked_equal(inches, 0))\n",
        "inches[:172] = np.nan\n",
        "inches[262:] = np.nan\n",
        "median_rainfall_summer = np.ma.median(np.ma.masked_invalid(inches))\n",
        "max_rainfall_summer = np.max(np.ma.masked_invalid(inches))\n",
        "inches = rainfall / 254.0 \n",
        "inches[172:262] = np.nan\n",
        "max_rainfall_excluding_summer = np.max(np.ma.masked_invalid(inches))\n",
        "inches = rainfall / 254.0\n",
        "print(\"Median precip on rainy days in 2014 (inches):   \", median_rainy_days)\n",
        "print(\"Median precip on summer days in 2014 (inches):  \", median_rainfall_summer)\n",
        "print(\"Maximum precip on summer days in 2014 (inches): \", max_rainfall_summer)\n",
        "print(\"Median precip on non-summer rainy days (inches):\", max_rainfall_excluding_summer)"
      ],
      "metadata": {
        "colab": {
          "base_uri": "https://localhost:8080/"
        },
        "id": "2GC_y5KOas4U",
        "outputId": "3a5cb7e1-8c0e-422e-93da-dce8c61d68f3"
      },
      "execution_count": 39,
      "outputs": [
        {
          "output_type": "stream",
          "name": "stdout",
          "text": [
            "Median precip on rainy days in 2014 (inches):    0.19488188976377951\n",
            "Median precip on summer days in 2014 (inches):   0.0\n",
            "Maximum precip on summer days in 2014 (inches):  0.8503937007874016\n",
            "Median precip on non-summer rainy days (inches): 1.8385826771653544\n"
          ]
        }
      ]
    },
    {
      "cell_type": "markdown",
      "source": [
        "Zadanie 4"
      ],
      "metadata": {
        "id": "4XWQAJHOsEKC"
      }
    },
    {
      "cell_type": "code",
      "source": [
        "A = np.array([0, 3, 2, 5])\n",
        "B = np.array([0, 3, 1, 4])\n",
        "# A + B\n",
        "print(\"Add: \", np.add(A, B))\n",
        "# B - A\n",
        "print(\"Substract: \", np.subtract(B, A))\n",
        "# A * 4\n",
        "print(\"Multiply: \", np.multiply(A, 4))\n",
        "# iloczyn skalarny A i B\n",
        "print(\"Scalar product: \", np.dot(A, B))\n",
        "# dlugosc wektora B\n",
        "print(\"Vector length: \", np.linalg.norm(B))\n"
      ],
      "metadata": {
        "colab": {
          "base_uri": "https://localhost:8080/"
        },
        "id": "Azc0f-mAsD8_",
        "outputId": "4d1fc440-1269-40c0-f053-ec652312dc5f"
      },
      "execution_count": 51,
      "outputs": [
        {
          "output_type": "stream",
          "name": "stdout",
          "text": [
            "Add:  [0 6 3 9]\n",
            "Substract:  [ 0  0 -1 -1]\n",
            "Multiply:  [ 0 12  8 20]\n",
            "Scalar product:  31\n",
            "Vector length:  5.0990195135927845\n"
          ]
        }
      ]
    }
  ]
}
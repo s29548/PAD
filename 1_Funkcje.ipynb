{
  "cells": [
    {
      "cell_type": "markdown",
      "metadata": {
        "id": "view-in-github",
        "colab_type": "text"
      },
      "source": [
        "<a href=\"https://colab.research.google.com/github/s29548/PAD/blob/main/1_Funkcje.ipynb\" target=\"_parent\"><img src=\"https://colab.research.google.com/assets/colab-badge.svg\" alt=\"Open In Colab\"/></a>"
      ]
    },
    {
      "cell_type": "markdown",
      "metadata": {
        "id": "LAVkyuUbN-l0"
      },
      "source": [
        "# Funkcje"
      ]
    },
    {
      "cell_type": "markdown",
      "metadata": {
        "id": "8F4z8U7JN-l7"
      },
      "source": [
        "## Ćwiczenie 1"
      ]
    },
    {
      "cell_type": "markdown",
      "metadata": {
        "id": "RdxQNjQFN-l7"
      },
      "source": [
        "Napisz funkcję o nazwie check_range, która sprawdza, czy liczba znajduje się w podanym zakresie (zawiera zarówno niski *__i__* wysoki). <br>\n",
        "Jeśli tak, zwróć „x jest między y a z”. <br>\n",
        "Jeśli tak nie jest, zwróć „x NIE jest między y a z”. <br>\n",
        "Gdzie:\n",
        "- x to liczba\n",
        "- y jest dolną granicą\n",
        "- z to górna granica"
      ]
    },
    {
      "cell_type": "code",
      "execution_count": 14,
      "metadata": {
        "id": "XqoHGwqeN-l7"
      },
      "outputs": [],
      "source": [
        "def check_range(x, y, z):\n",
        "  if y <= x <= z:\n",
        "    return print(x, \"jest między\",y,\"a\",z)\n",
        "  else:\n",
        "    return print(x,\"NIE jest między\",y,\"a\",z)\n"
      ]
    },
    {
      "cell_type": "code",
      "source": [
        "check_range(34, 9, 228)"
      ],
      "metadata": {
        "id": "IIz-eUMAW2Ne",
        "outputId": "3e4ade71-47fc-4396-e168-b6cf1a0b7cb3",
        "colab": {
          "base_uri": "https://localhost:8080/"
        }
      },
      "execution_count": 15,
      "outputs": [
        {
          "output_type": "stream",
          "name": "stdout",
          "text": [
            "34 jest między 9 a 228\n"
          ]
        }
      ]
    },
    {
      "cell_type": "code",
      "source": [
        "check_range(7, 2, 5)"
      ],
      "metadata": {
        "id": "DRhSQsvcW3Ll",
        "outputId": "b1390d59-0463-4730-d471-389681a2821e",
        "colab": {
          "base_uri": "https://localhost:8080/"
        }
      },
      "execution_count": 10,
      "outputs": [
        {
          "output_type": "stream",
          "name": "stdout",
          "text": [
            "7 NIE jest między 2 a 5\n"
          ]
        }
      ]
    },
    {
      "cell_type": "markdown",
      "metadata": {
        "id": "bzcb93MqN-l8"
      },
      "source": [
        "Napisz funkcję o nazwie bool_range, która robi to samo, ale zwraca tylko wartość logiczną."
      ]
    },
    {
      "cell_type": "code",
      "execution_count": 16,
      "metadata": {
        "id": "EBs4yDxTN-l8"
      },
      "outputs": [],
      "source": [
        "def bool_range(x, y, z):\n",
        "  if y<=x<=z:\n",
        "    return True\n",
        "  else:\n",
        "    return False"
      ]
    },
    {
      "cell_type": "code",
      "source": [
        "bool_range(7, 5, 20)"
      ],
      "metadata": {
        "id": "WNg666f-W6E6",
        "outputId": "7c79ea7f-a53c-477f-a622-80a3161b885f",
        "colab": {
          "base_uri": "https://localhost:8080/"
        }
      },
      "execution_count": 17,
      "outputs": [
        {
          "output_type": "execute_result",
          "data": {
            "text/plain": [
              "True"
            ]
          },
          "metadata": {},
          "execution_count": 17
        }
      ]
    },
    {
      "cell_type": "code",
      "source": [
        "bool_range(67, 22, 25)"
      ],
      "metadata": {
        "id": "bOKSyY_lW8MU",
        "outputId": "45a8e073-15be-4fc0-89d4-58e62cd5c15c",
        "colab": {
          "base_uri": "https://localhost:8080/"
        }
      },
      "execution_count": 18,
      "outputs": [
        {
          "output_type": "execute_result",
          "data": {
            "text/plain": [
              "False"
            ]
          },
          "metadata": {},
          "execution_count": 18
        }
      ]
    },
    {
      "cell_type": "markdown",
      "metadata": {
        "id": "SL-13aadN-l9"
      },
      "source": [
        "## Ćwiczenie 2"
      ]
    },
    {
      "cell_type": "markdown",
      "metadata": {
        "id": "jczDpRJhN-l9"
      },
      "source": [
        "Napisz funkcję o nazwie unique_list, która pobiera listę i zwraca listę zawierającą tylko unikalne elementy danych wejściowych."
      ]
    },
    {
      "cell_type": "code",
      "execution_count": 19,
      "metadata": {
        "id": "uLJslZgYN-l9"
      },
      "outputs": [],
      "source": [
        "def unique_list(lista):\n",
        "  new_unique_list = []\n",
        "  new_set = set(lista)\n",
        "  for number in new_set:\n",
        "    new_unique_list.append(number)\n",
        "  return new_unique_list"
      ]
    },
    {
      "cell_type": "code",
      "source": [
        "my_list = [1,3,5,6,4,3,2,3,3,4,3,4,5,6,6,4,3,2,12,3,5,63,4,5,3,3,2]\n",
        "\n",
        "unique_list(my_list)"
      ],
      "metadata": {
        "id": "3bmWBafDXAl2",
        "outputId": "b5e18ec2-13ba-4097-ac8c-f0f470a4cf90",
        "colab": {
          "base_uri": "https://localhost:8080/"
        }
      },
      "execution_count": 20,
      "outputs": [
        {
          "output_type": "execute_result",
          "data": {
            "text/plain": [
              "[1, 2, 3, 4, 5, 6, 12, 63]"
            ]
          },
          "metadata": {},
          "execution_count": 20
        }
      ]
    },
    {
      "cell_type": "markdown",
      "metadata": {
        "id": "_fBNn9YhN-l9"
      },
      "source": [
        "Znajdź inny sposób wykonania tej samej operacji bez definiowania funkcji."
      ]
    },
    {
      "cell_type": "code",
      "execution_count": 21,
      "metadata": {
        "colab": {
          "base_uri": "https://localhost:8080/"
        },
        "id": "zSVyZenPN-l9",
        "outputId": "8f331ed1-6caa-49b5-9665-4067810a8943"
      },
      "outputs": [
        {
          "output_type": "stream",
          "name": "stdout",
          "text": [
            "[1, 3, 5, 6, 4, 2, 12, 63]\n"
          ]
        }
      ],
      "source": [
        "another_method_list = []\n",
        "for number in my_list:\n",
        "  if number not in another_method_list:\n",
        "    another_method_list.append(number)\n",
        "print(another_method_list)\n"
      ]
    },
    {
      "cell_type": "markdown",
      "metadata": {
        "id": "wVhpkZ9QN-l9"
      },
      "source": [
        "## Ćwiczenie 3"
      ]
    },
    {
      "cell_type": "markdown",
      "metadata": {
        "id": "qqCG1ry9N-l9"
      },
      "source": [
        "Napisz funkcję o nazwie objętość_kuli, która przyjmuje promień kuli i zwraca jej objętość zaokrągloną do 2 dp. (Google wzór na objętość kuli, użyj pi = 3,14)"
      ]
    },
    {
      "cell_type": "code",
      "execution_count": 22,
      "metadata": {
        "id": "TY2o1FiYN-l9"
      },
      "outputs": [],
      "source": [
        "def volume_of_sphere(radius):\n",
        "  volume = 4/3 * 3.14 * radius**3\n",
        "  round_volume = round(volume, 2)\n",
        "  return round_volume"
      ]
    },
    {
      "cell_type": "code",
      "source": [
        "volume_of_sphere(2)"
      ],
      "metadata": {
        "id": "BlEUxGmgXKRX",
        "outputId": "2dd020ef-80a4-4d84-fd75-2a69f8e25459",
        "colab": {
          "base_uri": "https://localhost:8080/"
        }
      },
      "execution_count": 23,
      "outputs": [
        {
          "output_type": "execute_result",
          "data": {
            "text/plain": [
              "33.49"
            ]
          },
          "metadata": {},
          "execution_count": 23
        }
      ]
    },
    {
      "cell_type": "markdown",
      "metadata": {
        "id": "U-hZlhXAN-l-"
      },
      "source": [
        "## Ćwiczenie 4"
      ]
    },
    {
      "cell_type": "markdown",
      "metadata": {
        "id": "XHWF8zTvN-l_"
      },
      "source": [
        "Zdefiniuj funkcję rekurencyjną o nazwie num_fact, która zwraca silnię podanej liczby."
      ]
    },
    {
      "cell_type": "code",
      "execution_count": 24,
      "metadata": {
        "id": "5SIqxR-3N-l_"
      },
      "outputs": [],
      "source": [
        "def num_fact(number):\n",
        "  if number > 1:\n",
        "    return number * num_fact(number-1)\n",
        "  else:\n",
        "    return 1"
      ]
    },
    {
      "cell_type": "code",
      "source": [
        "num_fact(10)"
      ],
      "metadata": {
        "id": "ZOUQgLKvXaG2",
        "outputId": "62149e1f-8bff-4efe-d534-f46ec748e068",
        "colab": {
          "base_uri": "https://localhost:8080/"
        }
      },
      "execution_count": 25,
      "outputs": [
        {
          "output_type": "execute_result",
          "data": {
            "text/plain": [
              "3628800"
            ]
          },
          "metadata": {},
          "execution_count": 25
        }
      ]
    }
  ],
  "metadata": {
    "kernelspec": {
      "display_name": "Python 3",
      "language": "python",
      "name": "python3"
    },
    "language_info": {
      "codemirror_mode": {
        "name": "ipython",
        "version": 3
      },
      "file_extension": ".py",
      "mimetype": "text/x-python",
      "name": "python",
      "nbconvert_exporter": "python",
      "pygments_lexer": "ipython3",
      "version": "3.7.6"
    },
    "colab": {
      "provenance": [],
      "collapsed_sections": [],
      "toc_visible": true,
      "include_colab_link": true
    }
  },
  "nbformat": 4,
  "nbformat_minor": 0
}
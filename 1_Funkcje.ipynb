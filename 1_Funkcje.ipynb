{
  "cells": [
    {
      "cell_type": "markdown",
      "metadata": {
        "id": "view-in-github",
        "colab_type": "text"
      },
      "source": [
        "<a href=\"https://colab.research.google.com/github/s29548/PAD/blob/main/1_Funkcje.ipynb\" target=\"_parent\"><img src=\"https://colab.research.google.com/assets/colab-badge.svg\" alt=\"Open In Colab\"/></a>"
      ]
    },
    {
      "cell_type": "markdown",
      "metadata": {
        "id": "LAVkyuUbN-l0"
      },
      "source": [
        "# Funkcje"
      ]
    },
    {
      "cell_type": "markdown",
      "metadata": {
        "id": "8F4z8U7JN-l7"
      },
      "source": [
        "## Ćwiczenie 1"
      ]
    },
    {
      "cell_type": "markdown",
      "metadata": {
        "id": "RdxQNjQFN-l7"
      },
      "source": [
        "Napisz funkcję o nazwie check_range, która sprawdza, czy liczba znajduje się w podanym zakresie (zawiera zarówno niski *__i__* wysoki). <br>\n",
        "Jeśli tak, zwróć „x jest między y a z”. <br>\n",
        "Jeśli tak nie jest, zwróć „x NIE jest między y a z”. <br>\n",
        "Gdzie:\n",
        "- x to liczba\n",
        "- y jest dolną granicą\n",
        "- z to górna granica"
      ]
    },
    {
      "cell_type": "code",
      "execution_count": null,
      "metadata": {
        "id": "XqoHGwqeN-l7"
      },
      "outputs": [],
      "source": [
        "def check_range(x, y, z):\n",
        "  if y <= x <= z:\n",
        "    return \"x jest między y a z\"\n",
        "  else:\n",
        "    return \"x NIE jest między y a z\"\n"
      ]
    },
    {
      "cell_type": "markdown",
      "metadata": {
        "id": "bzcb93MqN-l8"
      },
      "source": [
        "Napisz funkcję o nazwie bool_range, która robi to samo, ale zwraca tylko wartość logiczną."
      ]
    },
    {
      "cell_type": "code",
      "execution_count": null,
      "metadata": {
        "id": "EBs4yDxTN-l8"
      },
      "outputs": [],
      "source": [
        "def bool_range(x, y, z):\n",
        "  if y<=x<=z:\n",
        "    return True\n",
        "  else:\n",
        "    return False"
      ]
    },
    {
      "cell_type": "markdown",
      "metadata": {
        "id": "SL-13aadN-l9"
      },
      "source": [
        "## Ćwiczenie 2"
      ]
    },
    {
      "cell_type": "markdown",
      "metadata": {
        "id": "jczDpRJhN-l9"
      },
      "source": [
        "Napisz funkcję o nazwie unique_list, która pobiera listę i zwraca listę zawierającą tylko unikalne elementy danych wejściowych."
      ]
    },
    {
      "cell_type": "code",
      "execution_count": null,
      "metadata": {
        "id": "uLJslZgYN-l9"
      },
      "outputs": [],
      "source": [
        "def unique_list(lista):\n",
        "  new_unique_list = []\n",
        "  new_set = set(lista)\n",
        "  for number in new_set:\n",
        "    new_unique_list.append(number)\n",
        "  return new_unique_list"
      ]
    },
    {
      "cell_type": "markdown",
      "metadata": {
        "id": "_fBNn9YhN-l9"
      },
      "source": [
        "Znajdź inny sposób wykonania tej samej operacji bez definiowania funkcji."
      ]
    },
    {
      "cell_type": "code",
      "execution_count": null,
      "metadata": {
        "colab": {
          "base_uri": "https://localhost:8080/"
        },
        "id": "zSVyZenPN-l9",
        "outputId": "ae3c56c0-df97-449d-a72b-39c2108481f7"
      },
      "outputs": [
        {
          "output_type": "stream",
          "name": "stdout",
          "text": [
            "[1, 3, 5, 6, 4, 2, 12, 63]\n"
          ]
        }
      ],
      "source": [
        "another_method_list = []\n",
        "for number in my_list:\n",
        "  if number not in another_method_list:\n",
        "    another_method_list.append(number)\n",
        "print(another_method_list)\n"
      ]
    },
    {
      "cell_type": "markdown",
      "metadata": {
        "id": "wVhpkZ9QN-l9"
      },
      "source": [
        "## Ćwiczenie 3"
      ]
    },
    {
      "cell_type": "markdown",
      "metadata": {
        "id": "qqCG1ry9N-l9"
      },
      "source": [
        "Napisz funkcję o nazwie objętość_kuli, która przyjmuje promień kuli i zwraca jej objętość zaokrągloną do 2 dp. (Google wzór na objętość kuli, użyj pi = 3,14)"
      ]
    },
    {
      "cell_type": "code",
      "execution_count": null,
      "metadata": {
        "id": "TY2o1FiYN-l9"
      },
      "outputs": [],
      "source": [
        "def volume_of_sphere(radius):\n",
        "  volume = 4/3 * 3.14 * radius**3\n",
        "  round_volume = round(volume, 2)\n",
        "  return round_volume"
      ]
    },
    {
      "cell_type": "markdown",
      "metadata": {
        "id": "U-hZlhXAN-l-"
      },
      "source": [
        "## Ćwiczenie 4"
      ]
    },
    {
      "cell_type": "markdown",
      "metadata": {
        "id": "XHWF8zTvN-l_"
      },
      "source": [
        "Zdefiniuj funkcję rekurencyjną o nazwie num_fact, która zwraca silnię podanej liczby."
      ]
    },
    {
      "cell_type": "code",
      "execution_count": null,
      "metadata": {
        "id": "5SIqxR-3N-l_"
      },
      "outputs": [],
      "source": [
        "def num_fact(number):\n",
        "  if number > 1:\n",
        "    return number * num_fact(number-1)\n",
        "  else:\n",
        "    return 1"
      ]
    }
  ],
  "metadata": {
    "kernelspec": {
      "display_name": "Python 3",
      "language": "python",
      "name": "python3"
    },
    "language_info": {
      "codemirror_mode": {
        "name": "ipython",
        "version": 3
      },
      "file_extension": ".py",
      "mimetype": "text/x-python",
      "name": "python",
      "nbconvert_exporter": "python",
      "pygments_lexer": "ipython3",
      "version": "3.7.6"
    },
    "colab": {
      "provenance": [],
      "collapsed_sections": [],
      "toc_visible": true,
      "include_colab_link": true
    }
  },
  "nbformat": 4,
  "nbformat_minor": 0
}